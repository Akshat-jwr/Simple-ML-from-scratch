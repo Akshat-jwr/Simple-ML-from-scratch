{
 "cells": [
  {
   "cell_type": "markdown",
   "id": "2f5d660a-826a-4f58-8fcc-f8c844a7c89b",
   "metadata": {},
   "source": [
    "# Modern Urban Planning"
   ]
  },
  {
   "cell_type": "markdown",
   "id": "195c7d54-4978-42bd-abe4-3d5780cf9fc6",
   "metadata": {},
   "source": [
    "- In this task I have to take a map as input and print the white pixels(houses) as clusters, find centres of those clusters and find distances between those clusters.\n",
    "- I could not make a detailed notebook on it because of lack of time. However I have made a detailed notebook on task 1."
   ]
  },
  {
   "cell_type": "code",
   "execution_count": 2,
   "id": "9899c83f-a25e-4cc1-8df6-5489ce3ee8ad",
   "metadata": {},
   "outputs": [
    {
     "data": {
      "text/plain": [
       "(64, 64, 4)"
      ]
     },
     "execution_count": 2,
     "metadata": {},
     "output_type": "execute_result"
    }
   ],
   "source": [
    "from PIL import Image\n",
    "import numpy as np\n",
    "import random\n",
    "import math\n",
    "import matplotlib.pyplot as plt\n",
    "import copy\n",
    "\n",
    "map = Image.open('/Users/akshatjiwrajka/Downloads/1.png')\n",
    "map = Image.open('/Users/akshatjiwrajka/Downloads/2.png')\n",
    "map = Image.open('/Users/akshatjiwrajka/Downloads/3.png')\n",
    "# map = Image.open('/Users/akshatjiwrajka/Downloads/4.png')\n",
    "map_array = np.array(map)\n",
    "\n",
    "map_array.shape"
   ]
  },
  {
   "cell_type": "code",
   "execution_count": 3,
   "id": "eb6b2dee-e38f-4e5d-8908-6136dd4cd6b4",
   "metadata": {},
   "outputs": [
    {
     "data": {
      "image/png": "[encoded data removed]",
      "text/plain": [
       "<PIL.PngImagePlugin.PngImageFile image mode=RGBA size=64x64>"
      ]
     },
     "execution_count": 3,
     "metadata": {},
     "output_type": "execute_result"
    }
   ],
   "source": [
    "map"
   ]
  },
  {
   "cell_type": "markdown",
   "id": "de6d2a9c-471d-45db-8d44-8ac62da96c25",
   "metadata": {},
   "source": [
    "- Here I have stored the map as a numpy array - map_array"
   ]
  },
  {
   "cell_type": "code",
   "execution_count": 4,
   "id": "f18af629-1426-41c6-b35b-67d16fdf35c8",
   "metadata": {},
   "outputs": [
    {
     "data": {
      "text/plain": [
       "[(1, 13),\n",
       " (2, 51),\n",
       " (3, 40),\n",
       " (4, 6),\n",
       " (4, 51),\n",
       " (5, 8),\n",
       " (5, 11),\n",
       " (5, 43),\n",
       " (5, 48),\n",
       " (6, 8),\n",
       " (6, 47),\n",
       " (6, 55),\n",
       " (7, 3),\n",
       " (7, 6),\n",
       " (7, 7),\n",
       " (7, 9),\n",
       " (7, 11),\n",
       " (8, 8),\n",
       " (8, 17),\n",
       " (8, 44),\n",
       " (8, 46),\n",
       " (8, 49),\n",
       " (8, 50),\n",
       " (8, 51),\n",
       " (8, 52),\n",
       " (9, 6),\n",
       " (9, 7),\n",
       " (9, 10),\n",
       " (9, 11),\n",
       " (9, 13),\n",
       " (9, 47),\n",
       " (9, 49),\n",
       " (9, 50),\n",
       " (9, 51),\n",
       " (9, 52),\n",
       " (9, 53),\n",
       " (10, 3),\n",
       " (10, 7),\n",
       " (10, 8),\n",
       " (10, 13),\n",
       " (10, 14),\n",
       " (10, 49),\n",
       " (10, 54),\n",
       " (11, 4),\n",
       " (11, 5),\n",
       " (11, 11),\n",
       " (11, 12),\n",
       " (11, 13),\n",
       " (11, 14),\n",
       " (11, 44),\n",
       " (11, 46),\n",
       " (11, 47),\n",
       " (11, 49),\n",
       " (11, 50),\n",
       " (11, 52),\n",
       " (12, 4),\n",
       " (12, 9),\n",
       " (12, 43),\n",
       " (12, 47),\n",
       " (12, 48),\n",
       " (12, 53),\n",
       " (12, 54),\n",
       " (13, 5),\n",
       " (13, 6),\n",
       " (13, 8),\n",
       " (13, 12),\n",
       " (13, 13),\n",
       " (14, 6),\n",
       " (14, 10),\n",
       " (14, 12),\n",
       " (14, 53),\n",
       " (15, 11),\n",
       " (15, 54),\n",
       " (16, 48),\n",
       " (19, 7),\n",
       " (43, 51),\n",
       " (43, 53),\n",
       " (44, 46),\n",
       " (45, 6),\n",
       " (45, 7),\n",
       " (45, 10),\n",
       " (45, 11),\n",
       " (45, 51),\n",
       " (45, 52),\n",
       " (46, 6),\n",
       " (46, 7),\n",
       " (46, 8),\n",
       " (46, 9),\n",
       " (46, 10),\n",
       " (46, 12),\n",
       " (46, 13),\n",
       " (46, 48),\n",
       " (46, 52),\n",
       " (46, 53),\n",
       " (47, 1),\n",
       " (47, 2),\n",
       " (47, 6),\n",
       " (47, 7),\n",
       " (47, 14),\n",
       " (47, 47),\n",
       " (47, 48),\n",
       " (47, 51),\n",
       " (47, 53),\n",
       " (48, 5),\n",
       " (48, 8),\n",
       " (48, 10),\n",
       " (48, 11),\n",
       " (48, 13),\n",
       " (48, 48),\n",
       " (48, 53),\n",
       " (48, 54),\n",
       " (48, 55),\n",
       " (49, 10),\n",
       " (49, 14),\n",
       " (49, 44),\n",
       " (49, 47),\n",
       " (49, 50),\n",
       " (49, 52),\n",
       " (49, 55),\n",
       " (50, 7),\n",
       " (50, 8),\n",
       " (50, 10),\n",
       " (50, 12),\n",
       " (50, 13),\n",
       " (50, 47),\n",
       " (50, 49),\n",
       " (50, 52),\n",
       " (51, 7),\n",
       " (51, 8),\n",
       " (51, 9),\n",
       " (51, 11),\n",
       " (51, 12),\n",
       " (51, 50),\n",
       " (51, 51),\n",
       " (51, 52),\n",
       " (51, 54),\n",
       " (52, 9),\n",
       " (52, 11),\n",
       " (52, 12),\n",
       " (52, 15),\n",
       " (52, 47),\n",
       " (52, 49),\n",
       " (52, 52),\n",
       " (52, 54),\n",
       " (53, 9),\n",
       " (53, 14),\n",
       " (53, 47),\n",
       " (53, 48),\n",
       " (54, 6),\n",
       " (54, 10),\n",
       " (54, 43),\n",
       " (54, 46),\n",
       " (54, 49),\n",
       " (55, 48),\n",
       " (56, 9),\n",
       " (58, 13),\n",
       " (58, 50)]"
      ]
     },
     "execution_count": 4,
     "metadata": {},
     "output_type": "execute_result"
    }
   ],
   "source": [
    "white_set=[]\n",
    "\n",
    "white_lower = 255\n",
    "white_upper = 255\n",
    "\n",
    "for y in range(64):\n",
    "    for x in range(64):\n",
    "        r, g, b, a = map_array[y, x]\n",
    "        if (white_lower <= r <= white_upper and\n",
    "            white_lower <= g <= white_upper and\n",
    "            white_lower <= b <= white_upper and\n",
    "            a == 255):\n",
    "            white_set.append((y, x))\n",
    "\n",
    "white_set"
   ]
  },
  {
   "cell_type": "markdown",
   "id": "9ebf2060-840b-4714-ab6a-d60e04c0a4af",
   "metadata": {},
   "source": [
    "- Here I have stored the coordinates of every white pixel in the map"
   ]
  },
  {
   "cell_type": "code",
   "execution_count": 5,
   "id": "80023d71-c9bd-4af1-ba67-c33c7baab536",
   "metadata": {},
   "outputs": [],
   "source": [
    "def K_means_clustering(k):\n",
    "    best_cluster = []\n",
    "    best_cluster_sum = 0\n",
    "\n",
    "    for i in range(1, 51):\n",
    "        cluster_list = random.sample(white_set, k)\n",
    "        clusters = [[] for _ in range(k)]\n",
    "    \n",
    "        for cdnt in white_set:\n",
    "            distances = np.zeros(shape=[k])\n",
    "            for j in range(k):\n",
    "                setA = cluster_list[j]\n",
    "                distances[j] = math.sqrt((setA[0] - cdnt[0]) ** 2 + (setA[1] - cdnt[1]) ** 2)\n",
    "            min_dist_cdnt = np.argmin(distances)\n",
    "            clusters[min_dist_cdnt].append(cdnt)\n",
    "    \n",
    "        cluster_sums = 0\n",
    "        for j in range(k):\n",
    "            centroid = cluster_list[j]\n",
    "            for l in range(len(clusters[j])):\n",
    "                cluster_sums += ((clusters[j][l][0] - centroid[0]) ** 2 + (clusters[j][l][1] - centroid[1]) ** 2)\n",
    "    \n",
    "        if i == 1 or cluster_sums < best_cluster_sum:\n",
    "            best_cluster_sum = cluster_sums\n",
    "            best_cluster = copy.deepcopy(clusters)\n",
    "\n",
    "    return {\"clusters\": best_cluster,\"sumsquares\": best_cluster_sum}"
   ]
  },
  {
   "cell_type": "markdown",
   "id": "f9c88a1b-af63-4fd2-96c4-32fef7320bc2",
   "metadata": {},
   "source": [
    "- Here, I have run 50 iterations choosing k random points in the beginning and then performing clustering.\n",
    "- This function returns the best cluster formed out of the 30 iterations(List of lists of coordinates of the clusters) and also the sum of squares of distances of each point of the cluster and its centroid."
   ]
  },
  {
   "cell_type": "code",
   "execution_count": 6,
   "id": "5fcc91e6-08e5-496e-91f2-5486a3827ff1",
   "metadata": {},
   "outputs": [],
   "source": [
    "clusters_by_k=[]\n",
    "inertia=np.zeros(shape=[9])\n",
    "for k in range(1,10):\n",
    "    clusters_by_k.append(K_means_clustering(k))\n",
    "    inertia[k-1]=(clusters_by_k[k-1]['sumsquares'])"
   ]
  },
  {
   "cell_type": "markdown",
   "id": "ddecaf2a-9c68-4354-b562-8b74c45cd41a",
   "metadata": {},
   "source": [
    "- Here I have taken values of k from 1 to 9 and stored the sumsquares with each value of k.\n",
    "- Then I plotted the graph of (sum of squares distances vs k) to find the elbow point."
   ]
  },
  {
   "cell_type": "code",
   "execution_count": 7,
   "id": "8cd20dab-6df4-4235-b1c0-63a2ca3e7083",
   "metadata": {},
   "outputs": [
    {
     "data": {
      "image/png": "[encoded data removed]",
      "text/plain": [
       "<Figure size 800x400 with 1 Axes>"
      ]
     },
     "metadata": {},
     "output_type": "display_data"
    }
   ],
   "source": [
    "plt.figure(figsize=(8, 4))\n",
    "plt.plot(range(1,10), inertia, marker='o')\n",
    "plt.title('Elbow Method for Optimal k')\n",
    "plt.xlabel('Number of clusters (k)')\n",
    "plt.ylabel('Inertia (Sum of squared distances)')\n",
    "plt.xticks(range(1,10))\n",
    "plt.grid(True)\n",
    "plt.show()"
   ]
  },
  {
   "cell_type": "code",
   "execution_count": 8,
   "id": "13e9cea4-dc2a-4b84-a466-b643fe6a72fc",
   "metadata": {},
   "outputs": [
    {
     "data": {
      "text/plain": [
       "array([-1.09642e+05, -5.20890e+04, -4.23640e+04, -8.99000e+02,\n",
       "        8.80000e+01, -7.52000e+02, -4.73000e+02,  6.20000e+01])"
      ]
     },
     "execution_count": 8,
     "metadata": {},
     "output_type": "execute_result"
    }
   ],
   "source": [
    "dif=np.diff(inertia)\n",
    "dif"
   ]
  },
  {
   "cell_type": "code",
   "execution_count": 9,
   "id": "34b8e017-2c49-4e30-beac-96b811a8cbf5",
   "metadata": {},
   "outputs": [
    {
     "data": {
      "text/plain": [
       "4"
      ]
     },
     "execution_count": 9,
     "metadata": {},
     "output_type": "execute_result"
    }
   ],
   "source": [
    "for i in range(0,len(dif)):\n",
    "    if math.fabs(dif[i]/dif[0])<0.1:\n",
    "        k_elbow=i+1\n",
    "        break\n",
    "        \n",
    "k_elbow"
   ]
  },
  {
   "cell_type": "markdown",
   "id": "2fc0905f-96ac-4332-a186-dd400ab0b504",
   "metadata": {},
   "source": [
    "- Here I have found the elbow value by using the condition shown above"
   ]
  },
  {
   "cell_type": "code",
   "execution_count": 10,
   "id": "368c2a7f-0d24-4f87-9f73-7136617add9c",
   "metadata": {},
   "outputs": [],
   "source": [
    "final_clusters=clusters_by_k[k_elbow-1]['clusters']\n",
    "final_centres=[]\n",
    "for points in final_clusters:\n",
    "    x = sum(p[0] for p in points) / len(points)\n",
    "    y = sum(p[1] for p in points) / len(points)\n",
    "    final_centres.append((int(x),int(y)))"
   ]
  },
  {
   "cell_type": "markdown",
   "id": "9c34d13e-d097-40d9-ba2a-50a42db15713",
   "metadata": {},
   "source": [
    "- Here I have found the centroid of each cluster by finding the mean values of x and y for each cluster."
   ]
  },
  {
   "cell_type": "code",
   "execution_count": 11,
   "id": "a782f934-73a4-42e4-bbec-69f8ef509c05",
   "metadata": {},
   "outputs": [],
   "source": [
    "colours = [\n",
    "    [255, 0, 0, 255],  # Red\n",
    "    [0, 255, 0, 255],  # Green\n",
    "    [0, 0, 255, 255],  # Blue\n",
    "    [255, 255, 0, 255], # Yellow\n",
    "    [0, 255, 255, 255], # Cyan\n",
    "    [255, 0, 255, 255], # Magenta\n",
    "]\n",
    "\n",
    "for i in range(0,k_elbow):\n",
    "    for j in final_clusters[i]:\n",
    "        x=j[0]\n",
    "        y=j[1]\n",
    "        map_array[x,y]=colours[i]\n",
    "\n",
    "black_pixels_mask = (map_array[:, :, 0] == 0) & (map_array[:, :, 1] == 0) & (map_array[:, :, 2] == 0) & (map_array[:, :, 3] == 255)\n",
    "map_array[black_pixels_mask] = [255, 255, 255, 255]\n",
    "\n",
    "for i in final_centres:\n",
    "    map_array[i[0],i[1]]=[0,0,0,255]"
   ]
  },
  {
   "cell_type": "markdown",
   "id": "6edd9bb7-2b0b-4a21-9911-7664c8616bd5",
   "metadata": {},
   "source": [
    "- Here i have Assigned colours to clusters and below I have plotted this using matplotlib."
   ]
  },
  {
   "cell_type": "code",
   "execution_count": 12,
   "id": "605e5004-bf39-4082-bebc-bc7608b19a27",
   "metadata": {},
   "outputs": [
    {
     "data": {
      "image/png": "[encoded data removed]",
      "text/plain": [
       "<Figure size 640x480 with 1 Axes>"
      ]
     },
     "metadata": {},
     "output_type": "display_data"
    }
   ],
   "source": [
    "plt.imshow(map_array)\n",
    "plt.axis('off')\n",
    "plt.show()"
   ]
  },
  {
   "cell_type": "code",
   "execution_count": 13,
   "id": "6d5dc43f-717a-4c59-873f-da2354b6f4f6",
   "metadata": {},
   "outputs": [
    {
     "name": "stdout",
     "output_type": "stream",
     "text": [
      "Distance between: Red and Green clusters is: 40.0\n",
      "Distance between: Red and Blue clusters is: 56.568542494923804\n",
      "Distance between: Red and Yellow clusters is: 41.0\n",
      "Distance between: Green and Blue clusters is: 40.0\n",
      "Distance between: Green and Yellow clusters is: 57.28001396647874\n",
      "Distance between: Blue and Yellow clusters is: 40.01249804748511\n"
     ]
    }
   ],
   "source": [
    "for i in range(0,len(final_centres)):\n",
    "    for j in range(i+1,len(final_centres)):\n",
    "        colour=[\"Red\",\"Green\",\"Blue\",\"Yellow\",\"Cyan\",\"Magenta\"]\n",
    "        dist=math.sqrt((final_centres[i][0]-final_centres[j][0])**2 + (final_centres[i][1]-final_centres[j][1])**2)\n",
    "        print(\"Distance between:\",colour[i],\"and\",colour[j],\"clusters is:\",dist)"
   ]
  },
  {
   "cell_type": "markdown",
   "id": "178ca8c2-cbd3-4a3a-b415-55c78fb12eea",
   "metadata": {},
   "source": [
    "- Here I have calculated distances between the clusters"
   ]
  }
 ],
 "metadata": {
  "kernelspec": {
   "display_name": "Python 3 (ipykernel)",
   "language": "python",
   "name": "python3"
  },
  "language_info": {
   "codemirror_mode": {
    "name": "ipython",
    "version": 3
   },
   "file_extension": ".py",
   "mimetype": "text/x-python",
   "name": "python",
   "nbconvert_exporter": "python",
   "pygments_lexer": "ipython3",
   "version": "3.11.7"
  }
 },
 "nbformat": 4,
 "nbformat_minor": 5
}
